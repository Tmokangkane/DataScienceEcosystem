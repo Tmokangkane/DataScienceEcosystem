{
  "metadata": {
    "kernelspec": {
      "name": "python",
      "display_name": "Python (Pyodide)",
      "language": "python"
    },
    "language_info": {
      "codemirror_mode": {
        "name": "python",
        "version": 3
      },
      "file_extension": ".py",
      "mimetype": "text/x-python",
      "name": "python",
      "nbconvert_exporter": "python",
      "pygments_lexer": "ipython3",
      "version": "3.8"
    }
  },
  "nbformat_minor": 5,
  "nbformat": 4,
  "cells": [
    {
      "id": "1cd3ee88-a0f9-451a-9d9e-570e1b3a940c",
      "cell_type": "markdown",
      "source": "# Data Science Tools and Ecosystem",
      "metadata": {}
    },
    {
      "id": "0b76c727-4dc3-4afd-8c01-28bab5a61c3b",
      "cell_type": "markdown",
      "source": " In this notebook, Data Science Tools and Ecosystem are summarized.",
      "metadata": {}
    },
    {
      "id": "fa594834-3f28-41c1-b035-e6c39cf22ed0",
      "cell_type": "markdown",
      "source": "Some of the popular languages that Data Scientists use are:\n\n1. Python\n2. R\n3. SQL\n\n",
      "metadata": {}
    },
    {
      "id": "d6c05986-ad11-476c-a1a2-6db0a426896b",
      "cell_type": "markdown",
      "source": " Commonly Used Libraries in Data Science\n\n1. NumPy\n2. Pandas\n3. Matplotlib\n\n",
      "metadata": {}
    },
    {
      "id": "17992b35-1819-4d02-b02a-ad31072a2aa5",
      "cell_type": "markdown",
      "source": "# Data Science Tools\n\n| Data Science Tools       |\n|--------------------------|\n| Jupyter Notebook         |\n| RStudio                  |\n| Apache Zeppelin          |",
      "metadata": {}
    },
    {
      "id": "73b2497a-be6e-49bd-960b-d58121f5d5da",
      "cell_type": "code",
      "source": "### Below are a few examples of evaluating arithmetic expressions in Python.\n\n# Data Science Tools\n\n| Data Science Tools       |\n|--------------------------|\n| Jupyter Notebook         |\n| RStudio                  |\n| Apache Zeppelin          |\n",
      "metadata": {
        "trusted": true
      },
      "outputs": [],
      "execution_count": null
    },
    {
      "id": "f2cad0dc-232f-4bc1-afb4-a450e1179a1c",
      "cell_type": "code",
      "source": "# This is a simple arithmetic expression to multiply then add integers.\n(3 * 4) + 5\n",
      "metadata": {
        "trusted": true
      },
      "outputs": [
        {
          "execution_count": 1,
          "output_type": "execute_result",
          "data": {
            "text/plain": "17"
          },
          "metadata": {}
        }
      ],
      "execution_count": 1
    },
    {
      "id": "7436f7e9-5a16-487b-a423-9456f9d1b713",
      "cell_type": "code",
      "source": "# This will convert 200 minutes to hours by dividing by 60.\nminutes = 200\nhours = minutes / 60\nhours\n",
      "metadata": {
        "trusted": true
      },
      "outputs": [
        {
          "execution_count": 2,
          "output_type": "execute_result",
          "data": {
            "text/plain": "3.3333333333333335"
          },
          "metadata": {}
        }
      ],
      "execution_count": 2
    },
    {
      "id": "b9776a7e-16c4-41ee-a2dd-4a2cb09fb284",
      "cell_type": "markdown",
      "source": "**Objectives:**\n\n- List popular languages for Data Science\n- Demonstrate simple arithmetic expressions in Python\n- Convert units of measurement using Python\n- Create and format tables in Markdown\n",
      "metadata": {}
    },
    {
      "id": "7389b1bd-e7d3-4f4c-8594-b19052e94267",
      "cell_type": "markdown",
      "source": "## Author\n\nSibanda Tebatso",
      "metadata": {}
    }
  ]
}